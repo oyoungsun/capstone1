{
  "nbformat": 4,
  "nbformat_minor": 0,
  "metadata": {
    "colab": {
      "provenance": [],
      "gpuType": "T4",
      "authorship_tag": "ABX9TyO6Cwz7hJ+CsF4uhjA4Ersn",
      "include_colab_link": true
    },
    "kernelspec": {
      "name": "python3",
      "display_name": "Python 3"
    },
    "language_info": {
      "name": "python"
    },
    "accelerator": "GPU",
    "gpuClass": "standard"
  },
  "cells": [
    {
      "cell_type": "markdown",
      "metadata": {
        "id": "view-in-github",
        "colab_type": "text"
      },
      "source": [
        "<a href=\"https://colab.research.google.com/github/oyoungsun/OCRproject/blob/main/GPU_EASYOCR_ENV.ipynb\" target=\"_parent\"><img src=\"https://colab.research.google.com/assets/colab-badge.svg\" alt=\"Open In Colab\"/></a>"
      ]
    },
    {
      "cell_type": "markdown",
      "source": [
        "# GPU 설정하기\n",
        "\n",
        "런타임 -> 런타임 유형 설정 -> GPU 선택"
      ],
      "metadata": {
        "id": "7cp2FFgNyLqa"
      }
    },
    {
      "cell_type": "markdown",
      "source": [
        "# 파이썬 버전 3.9 설정하기\n",
        "https://velog.io/@rubying/LAB-Google-Colab-Python-%EB%B2%84%EC%A0%84-%EC%97%85%EA%B7%B8%EB%A0%88%EC%9D%B4%EB%93%9C"
      ],
      "metadata": {
        "id": "paDNNY0Kx_v7"
      }
    },
    {
      "cell_type": "code",
      "source": [
        "!python -V"
      ],
      "metadata": {
        "colab": {
          "base_uri": "https://localhost:8080/"
        },
        "id": "NUrMBuCnyga3",
        "outputId": "1990a306-16df-443d-8aca-e369c7fb8978"
      },
      "execution_count": null,
      "outputs": [
        {
          "output_type": "stream",
          "name": "stdout",
          "text": [
            "Python 3.10.11\n"
          ]
        }
      ]
    },
    {
      "cell_type": "code",
      "source": [
        "!wget https://www.python.org/ftp/python/3.3.6/Python-3.3.6.tgz\n",
        "!tar Python-3.3.6.tgz\n",
        "!Python-3.3.6/configure\n",
        "!make\n",
        "!sudo make install"
      ],
      "metadata": {
        "colab": {
          "base_uri": "https://localhost:8080/"
        },
        "id": "dpY5iUZKyjWC",
        "outputId": "d20339b5-4b88-4910-f6a3-9395a5ade23e"
      },
      "execution_count": null,
      "outputs": [
        {
          "output_type": "stream",
          "name": "stdout",
          "text": [
            "--2023-05-07 11:24:01--  https://www.python.org/ftp/python/3.3.6/Python-3.3.6.tgz\n",
            "Resolving www.python.org (www.python.org)... 199.232.28.223, 2a04:4e42:58::223\n",
            "Connecting to www.python.org (www.python.org)|199.232.28.223|:443... connected.\n",
            "HTTP request sent, awaiting response... 200 OK\n",
            "Length: 16887234 (16M) [application/octet-stream]\n",
            "Saving to: ‘Python-3.3.6.tgz’\n",
            "\n",
            "Python-3.3.6.tgz    100%[===================>]  16.10M  57.4MB/s    in 0.3s    \n",
            "\n",
            "2023-05-07 11:24:01 (57.4 MB/s) - ‘Python-3.3.6.tgz’ saved [16887234/16887234]\n",
            "\n",
            "tar: Old option 'g' requires an argument.\n",
            "Try 'tar --help' or 'tar --usage' for more information.\n",
            "/bin/bash: Python-3.3.6/configure: No such file or directory\n",
            "make: *** No targets specified and no makefile found.  Stop.\n",
            "make: *** No rule to make target 'install'.  Stop.\n"
          ]
        }
      ]
    },
    {
      "cell_type": "code",
      "source": [
        "!python --version"
      ],
      "metadata": {
        "colab": {
          "base_uri": "https://localhost:8080/"
        },
        "id": "RrFPUqrey7m7",
        "outputId": "0c89c6a3-1a21-4570-a2e2-5f2938d9e649"
      },
      "execution_count": null,
      "outputs": [
        {
          "output_type": "stream",
          "name": "stdout",
          "text": [
            "Python 3.10.11\n"
          ]
        }
      ]
    },
    {
      "cell_type": "markdown",
      "source": [
        "# PyTorch 사용하기\n",
        "\n",
        "\n",
        "https://medium.com/hyunjulie/%EA%B5%AC%EA%B8%80-colab-%EC%97%90%EC%84%9C-pytorch-%EC%82%AC%EC%9A%A9%ED%95%98%EA%B8%B0-e065902d4a91\n",
        "\n",
        "Error :\n",
        "https://github.com/CorentinJ/Real-Time-Voice-Cloning/issues/1113"
      ],
      "metadata": {
        "id": "Aj3dXkXryD6w"
      }
    },
    {
      "cell_type": "code",
      "source": [
        "!pip install pip==21.3.1"
      ],
      "metadata": {
        "colab": {
          "base_uri": "https://localhost:8080/"
        },
        "id": "bITf_P5i1o_F",
        "outputId": "4eaaf885-8048-4ef0-ebe6-30bf868bd884"
      },
      "execution_count": null,
      "outputs": [
        {
          "output_type": "stream",
          "name": "stdout",
          "text": [
            "Looking in indexes: https://pypi.org/simple, https://us-python.pkg.dev/colab-wheels/public/simple/\n",
            "Collecting pip==21.3.1\n",
            "  Downloading pip-21.3.1-py3-none-any.whl (1.7 MB)\n",
            "\u001b[2K     \u001b[90m━━━━━━━━━━━━━━━━━━━━━━━━━━━━━━━━━━━━━━━━\u001b[0m \u001b[32m1.7/1.7 MB\u001b[0m \u001b[31m41.6 MB/s\u001b[0m eta \u001b[36m0:00:00\u001b[0m\n",
            "\u001b[?25h"
          ]
        }
      ]
    },
    {
      "cell_type": "code",
      "source": [
        "!pip install dotenv\n",
        "!pip install torchvision\n",
        "!pip install torchaudio"
      ],
      "metadata": {
        "id": "oDPWctuZ1Ogy"
      },
      "execution_count": null,
      "outputs": []
    },
    {
      "cell_type": "code",
      "source": [
        "!pip3 install http://download.pytorch.org/whl/cu80/torch-0.3.0.post4-cp36-cp36m-linux_x86_64.whl"
      ],
      "metadata": {
        "id": "z_aJCMam0RWA"
      },
      "execution_count": null,
      "outputs": []
    },
    {
      "cell_type": "markdown",
      "source": [
        "토치 버전 확인하기\n",
        "http://itsys.hansung.ac.kr/cgi-bin/kplus/board/include/PRINT.php3?table=lec_ai_practice&l=2-080629&PERMISION="
      ],
      "metadata": {
        "id": "PDfowydD22Wm"
      }
    },
    {
      "cell_type": "code",
      "source": [
        "import torch\n",
        "\n",
        "print(\"Torch version:{}\".format(torch.__version__))\n",
        "print(\"cuda version: {}\".format(torch.version.cuda))\n",
        "print(\"cudnn version:{}\".format(torch.backends.cudnn.version()))"
      ],
      "metadata": {
        "id": "IVoIAiow203-"
      },
      "execution_count": null,
      "outputs": []
    },
    {
      "cell_type": "code",
      "source": [
        "!nvcc --version"
      ],
      "metadata": {
        "id": "FoSkJiMN27Xd"
      },
      "execution_count": null,
      "outputs": []
    },
    {
      "cell_type": "markdown",
      "source": [
        "## Pytorch가 잘 동작하는지 확인해보기"
      ],
      "metadata": {
        "id": "X180JKNn2_-M"
      }
    },
    {
      "cell_type": "code",
      "source": [
        "# https://pytorch.org/docs/stable/torch.html?highlight=tensor#torch.tensor\n",
        "# 0으로 차있는 2x3 형태의 텐서를 생성합니다.\n",
        "cpu_tensor = torch.zeros(2,3)\n",
        "print(cpu_tensor)"
      ],
      "metadata": {
        "id": "0o8M2BZm3ESY"
      },
      "execution_count": null,
      "outputs": []
    },
    {
      "cell_type": "code",
      "source": [
        "# https://pytorch.org/docs/stable/tensor_attributes.html#torch.torch.device\n",
        "# 어느 장치(cpu 혹은 gpu)에 텐서를 올릴지 지정합니다.\n",
        "# 아래는 torch.device라는 함수를 사용해 gpu로 장치를 지정합니다.\n",
        "device = torch.device('cuda')\n",
        "\n",
        "# https://pytorch.org/docs/stable/cuda.html?highlight=available#torch.cuda.is_available\n",
        "# gpu가 사용 가능한지 확인해줍니다.\n",
        "if torch.cuda.is_available():\n",
        "\n",
        "  # https://pytorch.org/docs/stable/tensors.html?highlight=#torch.Tensor.to\n",
        "  # cpu에 있었던 텐서를 to 함수를 이용해 지정해놓은 장치(여기서는 gpu)로 올려줍니다.\n",
        "  gpu_tensor = cpu_tensor.to(device)\n",
        "  print(gpu_tensor)"
      ],
      "metadata": {
        "id": "BIO2PkT_3FNT"
      },
      "execution_count": null,
      "outputs": []
    },
    {
      "cell_type": "code",
      "source": [
        "# device 함수와 to 함수를 이용해 gpu에 있던 텐서를 다시 cpu로 옮겨올 수 있습니다.\n",
        "cpu_tensor_back = gpu_tensor.to(torch.device('cpu'))\n",
        "cpu_tensor_back"
      ],
      "metadata": {
        "id": "yVI-39ew3JFS"
      },
      "execution_count": null,
      "outputs": []
    },
    {
      "cell_type": "markdown",
      "source": [
        "# 필요한 라이브러리 import\n",
        "# GPU 사용 설정하기"
      ],
      "metadata": {
        "id": "7Dk2azyXyIiC"
      }
    },
    {
      "cell_type": "code",
      "source": [
        "import torch\n",
        "import torch.nn as nn\n",
        "import torchvision.datasets as dsets"
      ],
      "metadata": {
        "id": "cvA3g3M6yHzM"
      },
      "execution_count": null,
      "outputs": []
    },
    {
      "cell_type": "code",
      "source": [
        "use_cuda = True\n",
        "torch.cuda.is_available()"
      ],
      "metadata": {
        "id": "t-sRLoWm0am1"
      },
      "execution_count": null,
      "outputs": []
    },
    {
      "cell_type": "markdown",
      "source": [
        "# 프로젝트 설치 및 개발환경 구축\n",
        "\n",
        "- 여기서부터 easyOCR 블로그를 참고합니다.\n",
        "https://davelogs.tistory.com/77"
      ],
      "metadata": {
        "id": "51ZrDU5L3dh6"
      }
    },
    {
      "cell_type": "code",
      "source": [
        "!git clone https://github.com/Belval/TextRecognitionDataGenerator.git\n",
        "\n",
        "# 개발환경 구축\n",
        "!pip3 install -r requirements.txt\n",
        "\n",
        "# 개발환경 구축 (수기 관련 문자열 지원 필요시)\n",
        "!pip3 install -r requirements-hw.txt"
      ],
      "metadata": {
        "id": "3sW3wooE3Rjg"
      },
      "execution_count": null,
      "outputs": []
    },
    {
      "cell_type": "markdown",
      "source": [
        "위 구문을 통해 개발환경 구축을 위한 패키지 설치가 제대로 이뤄지지 않는다면, 다음의 명령 구문으로 수동 설치할 수도 있다.\n",
        "\n",
        ""
      ],
      "metadata": {
        "id": "VA8Wqsqk3uFf"
      }
    },
    {
      "cell_type": "code",
      "source": [
        "# 개발환경 구축을 위한 패키지 수동 설치\n",
        "# requirements.txt에 명시된 패키지 버전의 의존성 문제로 인해 설치가 안 될 경우에만 수동 설치 추천\n",
        "! pip3 install pillow\n",
        "!pip3 install numpy\n",
        "! pip3 install requests\n",
        "! pip3 install opencv-python\n",
        "!pip3 install tqdm\n",
        "! pip3 beautifulsoup4\n",
        "! pip3 diffimg\n",
        "\n",
        "# 수기 관련 문자열 지원 필요 시\n",
        "! pip3 install tensorflow\n",
        "! pip3 install matplotlib\n",
        "! pip3 install seaborn"
      ],
      "metadata": {
        "id": "RID_AD1h3lsl"
      },
      "execution_count": null,
      "outputs": []
    },
    {
      "cell_type": "code",
      "source": [],
      "metadata": {
        "id": "YjxT53f15kEo"
      },
      "execution_count": null,
      "outputs": []
    },
    {
      "cell_type": "markdown",
      "source": [
        "###1.2.1 기본 설정으로 생성하기"
      ],
      "metadata": {
        "id": "vv7SVlZm5mM4"
      }
    },
    {
      "cell_type": "markdown",
      "source": [
        "# 위키디피아 모듈에러\n",
        "\n",
        "1.   항목 추가\n",
        "2.   항목 추가\n",
        "\n",
        "\n",
        "![image.png](data:image/png;base64,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)"
      ],
      "metadata": {
        "id": "mqHsXVxd66Bj"
      }
    },
    {
      "cell_type": "markdown",
      "source": [
        "Python-3.3.6 으로 변경해야 한다."
      ],
      "metadata": {
        "id": "dO1iJjry7Tl3"
      }
    },
    {
      "cell_type": "code",
      "source": [
        "!pip install wikipedia"
      ],
      "metadata": {
        "id": "WgPc7CUc5kJR"
      },
      "execution_count": null,
      "outputs": []
    },
    {
      "cell_type": "code",
      "source": [
        "!python3 /content/TextRecognitionDataGenerator/trdg/run.py -c 10"
      ],
      "metadata": {
        "id": "QKWYx-up3vJI"
      },
      "execution_count": null,
      "outputs": []
    },
    {
      "cell_type": "code",
      "source": [],
      "metadata": {
        "id": "dVfqXjfd5NBo"
      },
      "execution_count": null,
      "outputs": []
    }
  ]
}